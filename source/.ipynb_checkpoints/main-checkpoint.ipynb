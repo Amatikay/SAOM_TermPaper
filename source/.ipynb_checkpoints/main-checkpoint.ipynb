{
 "cells": [
  {
   "cell_type": "code",
   "execution_count": 1,
   "id": "abb8cbe3-7ca0-4a6f-84cb-d9f731e26a99",
   "metadata": {},
   "outputs": [],
   "source": [
    "library(RSiena)"
   ]
  },
  {
   "cell_type": "markdown",
   "id": "53e02701-5eb6-4b5b-bc93-5884c423be26",
   "metadata": {},
   "source": [
    "## Загрузка срезов сети"
   ]
  },
  {
   "cell_type": "code",
   "execution_count": 2,
   "id": "01ebcd7b-34d3-4d67-b00d-8dadb6c519f4",
   "metadata": {
    "editable": true,
    "slideshow": {
     "slide_type": ""
    },
    "tags": []
   },
   "outputs": [
    {
     "data": {
      "text/plain": [
       "Type         oneMode               \n",
       "Observations 3                     \n",
       "Nodeset      Actors (2734 elements)\n"
      ]
     },
     "metadata": {},
     "output_type": "display_data"
    }
   ],
   "source": [
    "co_authorship_before2016 <- as.matrix( read.table( \"../ParsingData/Data/before_2016.dat\"))\n",
    "co_authorship_2016_2019 <- as.matrix( read.table( \"../ParsingData/Data/2016_2019.dat\"))\n",
    "co_authorship_after2019 <- as.matrix( read.table( \"../ParsingData/Data/after_2019.dat\"))\n",
    "\n",
    "\n",
    "co_authorshipData <- array( c( co_authorship_before2016,co_authorship_2016_2019,co_authorship_after2019), dim = c( 2734, 2734, 3 ))\n",
    "\n",
    "co_authorship <- sienaDependent(co_authorshipData, nodeSet=\"Actors\")\n",
    "\n",
    "co_authorship"
   ]
  },
  {
   "cell_type": "markdown",
   "id": "34b60156-ac86-47a9-92a0-917ba64d083f",
   "metadata": {},
   "source": [
    "## Загрузка ковариат\n",
    "Ковариаты: \n",
    "- 1 Стаж\n",
    "- 2 Категория научного подразделения по УДК\n",
    " Для категории научного подраздеения стоит провест кластерный анализ и выделить категории, потому, что в `ТГУ` заметна некоторая кластеризация и усиление некторых научных сфер"
   ]
  },
  {
   "cell_type": "code",
   "execution_count": 3,
   "id": "9fd2ff6c-3db7-4953-bf5a-c41eea78da1a",
   "metadata": {},
   "outputs": [],
   "source": [
    "experience_2016 <- as.vector( unlist( read.table( \"../ParsingData/Data/exp_2016.dat\")))\n",
    "experience_2019 <- as.vector( unlist( read.table( \"../ParsingData/Data/exp_2019.dat\")))\n",
    "experience_2023 <- as.vector( unlist(read.table( \"../ParsingData/Data/exp_2023.dat\")))\n",
    "\n",
    "experience <- cbind( experience_2016, experience_2019,experience_2023)\n",
    "exp_covar <- varCovar(experience)"
   ]
  },
  {
   "cell_type": "markdown",
   "id": "02d6e2eb-e26d-46df-8dbd-19ff8765e2f8",
   "metadata": {},
   "source": [
    "## Категория научного подразделения как `dummy variable`\n",
    "Пока я забью на научное пдразделение. <br>Не понимаю как его впихнуть в модель 8 даммисов +  данные получены не корректно + необходимо провести класетрный анализ для выделения групп подразделений, а не пальцем в небо выделять категории. "
   ]
  },
  {
   "cell_type": "code",
   "execution_count": 4,
   "id": "6019b199-f8b3-4bb3-90f6-05a9e8b75438",
   "metadata": {},
   "outputs": [],
   "source": [
    "# scienceSubdivCategory <- as.vector( unlist(read.table( \"../ParsingData/Data/SubdivCategory.dat\")))\n",
    "\n",
    "# factor <- factor(scienceSubdivCategory )\n",
    "# dummy_scienceSubdivCategory <- model.matrix(~ factor - 1)\n",
    "\n",
    "\n",
    "# dummy_scienceSubdivCategory_0 <- coCovar(as.vector(dummy_scienceSubdivCategory[,1]))\n",
    "# dummy_scienceSubdivCategory_1 <- coCovar(as.vector(dummy_scienceSubdivCategory[,2]))\n",
    "# dummy_scienceSubdivCategory_3 <- coCovar(as.vector(dummy_scienceSubdivCategory[,3]))\n",
    "# dummy_scienceSubdivCategory_4 <- coCovar(as.vector(dummy_scienceSubdivCategory[,4]))\n",
    "# dummy_scienceSubdivCategory_5 <- coCovar(as.vector(dummy_scienceSubdivCategory[,5]))\n",
    "# dummy_scienceSubdivCategory_6 <- coCovar(as.vector(dummy_scienceSubdivCategory[,6]))\n",
    "# dummy_scienceSubdivCategory_7 <- coCovar(as.vector(dummy_scienceSubdivCategory[,7]))\n",
    "# dummy_scienceSubdivCategory_8 <- coCovar(as.vector(dummy_scienceSubdivCategory[,8]))"
   ]
  },
  {
   "cell_type": "markdown",
   "id": "0100577f-6554-45db-b04b-1cce920c412d",
   "metadata": {},
   "source": [
    "## Описание модели"
   ]
  },
  {
   "cell_type": "code",
   "execution_count": 5,
   "id": "a67a8e89-a04f-4f4f-b836-8b5d7d24e1e8",
   "metadata": {},
   "outputs": [
    {
     "data": {
      "text/plain": [
       "Dependent variables:  co_authorship \n",
       "Number of observations: 3 \n",
       "\n",
       "Nodeset                  Actors \n",
       "Number of nodes            2734 \n",
       "\n",
       "Dependent variable co_authorship       \n",
       "Type               oneMode, symmetric  \n",
       "Observations       3                   \n",
       "Nodeset            Actors              \n",
       "Densities          0.0013 0.0018 0.0017\n",
       "\n",
       "Changing covariates:  exp_covar "
      ]
     },
     "metadata": {},
     "output_type": "display_data"
    }
   ],
   "source": [
    "mydata <- sienaDataCreate( co_authorship, exp_covar )\n",
    "myeff <- getEffects(mydata)\n",
    "mydata"
   ]
  },
  {
   "cell_type": "code",
   "execution_count": 6,
   "id": "14925cc8-a3b8-41b2-9a5f-8c1c54856a1d",
   "metadata": {},
   "outputs": [],
   "source": [
    "# effectsDocumentation(myeff)"
   ]
  },
  {
   "cell_type": "markdown",
   "id": "c7fc5b2d-1822-4b90-9ae1-a69d8b642229",
   "metadata": {},
   "source": [
    "### Эффекты сети"
   ]
  },
  {
   "cell_type": "code",
   "execution_count": 7,
   "id": "93e66f09-7d16-4608-8fae-16dfef4f18bf",
   "metadata": {
    "editable": true,
    "slideshow": {
     "slide_type": ""
    },
    "tags": []
   },
   "outputs": [
    {
     "name": "stdout",
     "output_type": "stream",
     "text": [
      "  effectName        include fix   test  initialValue parm\n",
      "1 transitive triads TRUE    FALSE FALSE          0   0   \n",
      "  effectName                                include fix   test  initialValue\n",
      "1 effect ln(degree+1) on rate co_authorship TRUE    FALSE FALSE          0  \n",
      "  parm\n",
      "1 1   \n",
      "  effectName       include fix   test  initialValue parm\n",
      "1 degree (density) TRUE    FALSE FALSE   -1.54632   0   \n"
     ]
    }
   ],
   "source": [
    "myeff <- includeEffects( myeff, transTriads, include =TRUE)\n",
    "myeff <- includeEffects( myeff, outRateLog, type = \"rate\", include =TRUE)\n",
    "myeff <- includeEffects( myeff, density, include =TRUE)"
   ]
  },
  {
   "cell_type": "markdown",
   "id": "d102f1f5-e4f2-48df-a05e-645a0a1406f0",
   "metadata": {},
   "source": [
    "### Эффекты для ковариаты `стаж`"
   ]
  },
  {
   "cell_type": "code",
   "execution_count": 8,
   "id": "76078a56-c948-4703-9b1c-87465bd7626c",
   "metadata": {},
   "outputs": [
    {
     "name": "stdout",
     "output_type": "stream",
     "text": [
      "  effectName                        include fix   test  initialValue parm\n",
      "1 trans. triads intermed. exp_covar TRUE    FALSE FALSE          0   0   \n"
     ]
    }
   ],
   "source": [
    "myeff <- includeEffects( myeff, transTripX, include =TRUE, interaction1 = \"exp_covar\")"
   ]
  },
  {
   "cell_type": "markdown",
   "id": "8dba3be3-c272-4dd6-952e-0b357f7b19bc",
   "metadata": {},
   "source": [
    "### Эффекты для ковариаты `подразделение`"
   ]
  },
  {
   "cell_type": "code",
   "execution_count": 9,
   "id": "84216ec6-8fc4-4c1c-b246-fcf9daaf7737",
   "metadata": {},
   "outputs": [],
   "source": [
    "# myeff <- includeEffects( myeff, transTripX , type = \"eval\", include =TRUE, interaction1 = \"subdivision_covar\")\n",
    "# myeff <- includeEffects( myeff, transTripX , type = \"creation\", include =TRUE, interaction1 = \"subdivision_covar\")\n",
    "# myeff <- includeEffects( myeff, transTripX , type = \"endow\", include =TRUE, interaction1 = \"subdivision_covar\")\n",
    "\n",
    "# myeff <- includeEffects( myeff, RateX , interaction1 = \"subdivision_covar\",type = \"rate\", include =TRUE)"
   ]
  },
  {
   "cell_type": "markdown",
   "id": "9977d981-dde2-451d-b2d2-33553de33b66",
   "metadata": {},
   "source": [
    "# Вычисления"
   ]
  },
  {
   "cell_type": "markdown",
   "id": "50377495-c1a3-4a86-9a32-c929e1735c7d",
   "metadata": {},
   "source": [
    "## Описание эффектов используемых в модели"
   ]
  },
  {
   "cell_type": "code",
   "execution_count": 10,
   "id": "6e35d646-9ef7-4722-8c20-8205e84419ba",
   "metadata": {},
   "outputs": [
    {
     "data": {
      "text/html": [
       "<table class=\"dataframe\">\n",
       "<caption>A summary.sienaEffects: 6 × 31</caption>\n",
       "<thead>\n",
       "\t<tr><th></th><th scope=col>name</th><th scope=col>effectName</th><th scope=col>functionName</th><th scope=col>shortName</th><th scope=col>interaction1</th><th scope=col>interaction2</th><th scope=col>type</th><th scope=col>basicRate</th><th scope=col>include</th><th scope=col>randomEffects</th><th scope=col>⋯</th><th scope=col>effect3</th><th scope=col>interactionType</th><th scope=col>local</th><th scope=col>setting</th><th scope=col>effectFn</th><th scope=col>statisticFn</th><th scope=col>netType</th><th scope=col>groupName</th><th scope=col>group</th><th scope=col>effectNumber</th></tr>\n",
       "\t<tr><th></th><th scope=col>&lt;chr&gt;</th><th scope=col>&lt;chr&gt;</th><th scope=col>&lt;chr&gt;</th><th scope=col>&lt;chr&gt;</th><th scope=col>&lt;chr&gt;</th><th scope=col>&lt;chr&gt;</th><th scope=col>&lt;chr&gt;</th><th scope=col>&lt;lgl&gt;</th><th scope=col>&lt;lgl&gt;</th><th scope=col>&lt;lgl&gt;</th><th scope=col>⋯</th><th scope=col>&lt;int&gt;</th><th scope=col>&lt;chr&gt;</th><th scope=col>&lt;lgl&gt;</th><th scope=col>&lt;chr&gt;</th><th scope=col>&lt;list&gt;</th><th scope=col>&lt;list&gt;</th><th scope=col>&lt;chr&gt;</th><th scope=col>&lt;chr&gt;</th><th scope=col>&lt;dbl&gt;</th><th scope=col>&lt;int&gt;</th></tr>\n",
       "</thead>\n",
       "<tbody>\n",
       "\t<tr><th scope=row>co_authorship.rate.1</th><td>co_authorship</td><td>constant co_authorship rate (period 1)   </td><td>Amount of network change in period 1              </td><td>Rate       </td><td>         </td><td></td><td>rate</td><td> TRUE</td><td>TRUE</td><td>FALSE</td><td>⋯</td><td>0</td><td>   </td><td>FALSE</td><td></td><td>NULL</td><td>NULL</td><td>oneMode</td><td>Group1</td><td>1</td><td>  1</td></tr>\n",
       "\t<tr><th scope=row>co_authorship.rate.2</th><td>co_authorship</td><td>constant co_authorship rate (period 2)   </td><td>Amount of network change in period 2              </td><td>Rate       </td><td>         </td><td></td><td>rate</td><td> TRUE</td><td>TRUE</td><td>FALSE</td><td>⋯</td><td>0</td><td>   </td><td>FALSE</td><td></td><td>NULL</td><td>NULL</td><td>oneMode</td><td>Group1</td><td>1</td><td>  2</td></tr>\n",
       "\t<tr><th scope=row>co_authorship.rate.5</th><td>co_authorship</td><td>effect ln(degree+1) on rate co_authorship</td><td>Amount of change x ln(outdegrees+1)               </td><td>outRateLog </td><td>         </td><td></td><td>rate</td><td>FALSE</td><td>TRUE</td><td>FALSE</td><td>⋯</td><td>0</td><td>   </td><td>FALSE</td><td></td><td>NULL</td><td>NULL</td><td>oneMode</td><td>Group1</td><td>1</td><td>  5</td></tr>\n",
       "\t<tr><th scope=row>co_authorship.obj.eval.1</th><td>co_authorship</td><td>degree (density)                         </td><td>Number of edges                                   </td><td>density    </td><td>         </td><td></td><td>eval</td><td>FALSE</td><td>TRUE</td><td> TRUE</td><td>⋯</td><td>0</td><td>ego</td><td>FALSE</td><td></td><td>NULL</td><td>NULL</td><td>oneMode</td><td>Group1</td><td>1</td><td>  7</td></tr>\n",
       "\t<tr><th scope=row>co_authorship.obj.eval.2</th><td>co_authorship</td><td>transitive triads                        </td><td>Number of transitive triads                       </td><td>transTriads</td><td>         </td><td></td><td>eval</td><td>FALSE</td><td>TRUE</td><td>FALSE</td><td>⋯</td><td>0</td><td>   </td><td>FALSE</td><td></td><td>NULL</td><td>NULL</td><td>oneMode</td><td>Group1</td><td>1</td><td> 10</td></tr>\n",
       "\t<tr><th scope=row>co_authorship.obj.eval.61</th><td>co_authorship</td><td>trans. triads intermed. exp_covar        </td><td>Number of trans. triads intermed. weight exp_covar</td><td>transTripX </td><td>exp_covar</td><td></td><td>eval</td><td>FALSE</td><td>TRUE</td><td>FALSE</td><td>⋯</td><td>0</td><td>   </td><td>FALSE</td><td></td><td>NULL</td><td>NULL</td><td>oneMode</td><td>Group1</td><td>1</td><td>173</td></tr>\n",
       "</tbody>\n",
       "</table>\n"
      ],
      "text/latex": [
       "A summary.sienaEffects: 6 × 31\n",
       "\\begin{tabular}{r|lllllllllllllllllllll}\n",
       "  & name & effectName & functionName & shortName & interaction1 & interaction2 & type & basicRate & include & randomEffects & ⋯ & effect3 & interactionType & local & setting & effectFn & statisticFn & netType & groupName & group & effectNumber\\\\\n",
       "  & <chr> & <chr> & <chr> & <chr> & <chr> & <chr> & <chr> & <lgl> & <lgl> & <lgl> & ⋯ & <int> & <chr> & <lgl> & <chr> & <list> & <list> & <chr> & <chr> & <dbl> & <int>\\\\\n",
       "\\hline\n",
       "\tco\\_authorship.rate.1 & co\\_authorship & constant co\\_authorship rate (period 1)    & Amount of network change in period 1               & Rate        &           &  & rate &  TRUE & TRUE & FALSE & ⋯ & 0 &     & FALSE &  & NULL & NULL & oneMode & Group1 & 1 &   1\\\\\n",
       "\tco\\_authorship.rate.2 & co\\_authorship & constant co\\_authorship rate (period 2)    & Amount of network change in period 2               & Rate        &           &  & rate &  TRUE & TRUE & FALSE & ⋯ & 0 &     & FALSE &  & NULL & NULL & oneMode & Group1 & 1 &   2\\\\\n",
       "\tco\\_authorship.rate.5 & co\\_authorship & effect ln(degree+1) on rate co\\_authorship & Amount of change x ln(outdegrees+1)                & outRateLog  &           &  & rate & FALSE & TRUE & FALSE & ⋯ & 0 &     & FALSE &  & NULL & NULL & oneMode & Group1 & 1 &   5\\\\\n",
       "\tco\\_authorship.obj.eval.1 & co\\_authorship & degree (density)                          & Number of edges                                    & density     &           &  & eval & FALSE & TRUE &  TRUE & ⋯ & 0 & ego & FALSE &  & NULL & NULL & oneMode & Group1 & 1 &   7\\\\\n",
       "\tco\\_authorship.obj.eval.2 & co\\_authorship & transitive triads                         & Number of transitive triads                        & transTriads &           &  & eval & FALSE & TRUE & FALSE & ⋯ & 0 &     & FALSE &  & NULL & NULL & oneMode & Group1 & 1 &  10\\\\\n",
       "\tco\\_authorship.obj.eval.61 & co\\_authorship & trans. triads intermed. exp\\_covar         & Number of trans. triads intermed. weight exp\\_covar & transTripX  & exp\\_covar &  & eval & FALSE & TRUE & FALSE & ⋯ & 0 &     & FALSE &  & NULL & NULL & oneMode & Group1 & 1 & 173\\\\\n",
       "\\end{tabular}\n"
      ],
      "text/markdown": [
       "\n",
       "A summary.sienaEffects: 6 × 31\n",
       "\n",
       "| <!--/--> | name &lt;chr&gt; | effectName &lt;chr&gt; | functionName &lt;chr&gt; | shortName &lt;chr&gt; | interaction1 &lt;chr&gt; | interaction2 &lt;chr&gt; | type &lt;chr&gt; | basicRate &lt;lgl&gt; | include &lt;lgl&gt; | randomEffects &lt;lgl&gt; | ⋯ ⋯ | effect3 &lt;int&gt; | interactionType &lt;chr&gt; | local &lt;lgl&gt; | setting &lt;chr&gt; | effectFn &lt;list&gt; | statisticFn &lt;list&gt; | netType &lt;chr&gt; | groupName &lt;chr&gt; | group &lt;dbl&gt; | effectNumber &lt;int&gt; |\n",
       "|---|---|---|---|---|---|---|---|---|---|---|---|---|---|---|---|---|---|---|---|---|---|\n",
       "| co_authorship.rate.1 | co_authorship | constant co_authorship rate (period 1)    | Amount of network change in period 1               | Rate        | <!----> | <!----> | rate |  TRUE | TRUE | FALSE | ⋯ | 0 | <!----> | FALSE | <!----> | NULL | NULL | oneMode | Group1 | 1 |   1 |\n",
       "| co_authorship.rate.2 | co_authorship | constant co_authorship rate (period 2)    | Amount of network change in period 2               | Rate        | <!----> | <!----> | rate |  TRUE | TRUE | FALSE | ⋯ | 0 | <!----> | FALSE | <!----> | NULL | NULL | oneMode | Group1 | 1 |   2 |\n",
       "| co_authorship.rate.5 | co_authorship | effect ln(degree+1) on rate co_authorship | Amount of change x ln(outdegrees+1)                | outRateLog  | <!----> | <!----> | rate | FALSE | TRUE | FALSE | ⋯ | 0 | <!----> | FALSE | <!----> | NULL | NULL | oneMode | Group1 | 1 |   5 |\n",
       "| co_authorship.obj.eval.1 | co_authorship | degree (density)                          | Number of edges                                    | density     | <!----> | <!----> | eval | FALSE | TRUE |  TRUE | ⋯ | 0 | ego | FALSE | <!----> | NULL | NULL | oneMode | Group1 | 1 |   7 |\n",
       "| co_authorship.obj.eval.2 | co_authorship | transitive triads                         | Number of transitive triads                        | transTriads | <!----> | <!----> | eval | FALSE | TRUE | FALSE | ⋯ | 0 | <!----> | FALSE | <!----> | NULL | NULL | oneMode | Group1 | 1 |  10 |\n",
       "| co_authorship.obj.eval.61 | co_authorship | trans. triads intermed. exp_covar         | Number of trans. triads intermed. weight exp_covar | transTripX  | exp_covar | <!----> | eval | FALSE | TRUE | FALSE | ⋯ | 0 | <!----> | FALSE | <!----> | NULL | NULL | oneMode | Group1 | 1 | 173 |\n",
       "\n"
      ],
      "text/plain": [
       "                          name         \n",
       "co_authorship.rate.1      co_authorship\n",
       "co_authorship.rate.2      co_authorship\n",
       "co_authorship.rate.5      co_authorship\n",
       "co_authorship.obj.eval.1  co_authorship\n",
       "co_authorship.obj.eval.2  co_authorship\n",
       "co_authorship.obj.eval.61 co_authorship\n",
       "                          effectName                               \n",
       "co_authorship.rate.1      constant co_authorship rate (period 1)   \n",
       "co_authorship.rate.2      constant co_authorship rate (period 2)   \n",
       "co_authorship.rate.5      effect ln(degree+1) on rate co_authorship\n",
       "co_authorship.obj.eval.1  degree (density)                         \n",
       "co_authorship.obj.eval.2  transitive triads                        \n",
       "co_authorship.obj.eval.61 trans. triads intermed. exp_covar        \n",
       "                          functionName                                      \n",
       "co_authorship.rate.1      Amount of network change in period 1              \n",
       "co_authorship.rate.2      Amount of network change in period 2              \n",
       "co_authorship.rate.5      Amount of change x ln(outdegrees+1)               \n",
       "co_authorship.obj.eval.1  Number of edges                                   \n",
       "co_authorship.obj.eval.2  Number of transitive triads                       \n",
       "co_authorship.obj.eval.61 Number of trans. triads intermed. weight exp_covar\n",
       "                          shortName   interaction1 interaction2 type basicRate\n",
       "co_authorship.rate.1      Rate                                  rate  TRUE    \n",
       "co_authorship.rate.2      Rate                                  rate  TRUE    \n",
       "co_authorship.rate.5      outRateLog                            rate FALSE    \n",
       "co_authorship.obj.eval.1  density                               eval FALSE    \n",
       "co_authorship.obj.eval.2  transTriads                           eval FALSE    \n",
       "co_authorship.obj.eval.61 transTripX  exp_covar                 eval FALSE    \n",
       "                          include randomEffects ⋯ effect3 interactionType local\n",
       "co_authorship.rate.1      TRUE    FALSE         ⋯ 0                       FALSE\n",
       "co_authorship.rate.2      TRUE    FALSE         ⋯ 0                       FALSE\n",
       "co_authorship.rate.5      TRUE    FALSE         ⋯ 0                       FALSE\n",
       "co_authorship.obj.eval.1  TRUE     TRUE         ⋯ 0       ego             FALSE\n",
       "co_authorship.obj.eval.2  TRUE    FALSE         ⋯ 0                       FALSE\n",
       "co_authorship.obj.eval.61 TRUE    FALSE         ⋯ 0                       FALSE\n",
       "                          setting effectFn statisticFn netType groupName group\n",
       "co_authorship.rate.1              NULL     NULL        oneMode Group1    1    \n",
       "co_authorship.rate.2              NULL     NULL        oneMode Group1    1    \n",
       "co_authorship.rate.5              NULL     NULL        oneMode Group1    1    \n",
       "co_authorship.obj.eval.1          NULL     NULL        oneMode Group1    1    \n",
       "co_authorship.obj.eval.2          NULL     NULL        oneMode Group1    1    \n",
       "co_authorship.obj.eval.61         NULL     NULL        oneMode Group1    1    \n",
       "                          effectNumber\n",
       "co_authorship.rate.1        1         \n",
       "co_authorship.rate.2        2         \n",
       "co_authorship.rate.5        5         \n",
       "co_authorship.obj.eval.1    7         \n",
       "co_authorship.obj.eval.2   10         \n",
       "co_authorship.obj.eval.61 173         "
      ]
     },
     "metadata": {},
     "output_type": "display_data"
    }
   ],
   "source": [
    "summary(myeff)"
   ]
  },
  {
   "cell_type": "markdown",
   "id": "4ace4a9d-9f9e-4dbd-8f9a-8bab4268cd3b",
   "metadata": {},
   "source": [
    "## Запуск модели"
   ]
  },
  {
   "cell_type": "code",
   "execution_count": 11,
   "id": "33004a7b-a93d-41b2-86c8-ba2c940e3d00",
   "metadata": {},
   "outputs": [
    {
     "name": "stdout",
     "output_type": "stream",
     "text": [
      "If you use this algorithm object, siena07 will create/use an output file Siena.txt .\n"
     ]
    }
   ],
   "source": [
    "myalgorithm <- sienaAlgorithmCreate( projname = 'co_authorship_TSU')# modelType = 1 is not used | Возможность выбора типа формирования связи в неориентированном графе\n",
    "                                                                    # см https://www.stats.ox.ac.uk/~snijders/siena/RSiena_Manual.pdf стр 55\n",
    "ans <- siena07( myalgorithm, data = mydata, effects = myeff, clusterType=\"FORK\", useCluster=TRUE, nbrNodes=12)"
   ]
  },
  {
   "cell_type": "markdown",
   "id": "f16c5c34-d6f5-4dd6-b15c-b6f0f3567793",
   "metadata": {},
   "source": [
    "## Подробный вывод результатов"
   ]
  },
  {
   "cell_type": "code",
   "execution_count": 12,
   "id": "4bb1a291-93a7-4d9f-a180-96196eebcb03",
   "metadata": {},
   "outputs": [
    {
     "data": {
      "text/plain": [
       "Estimates, standard errors and convergence t-ratios\n",
       "\n",
       "                                                     Estimate   Standard   Convergence \n",
       "                                                                  Error      t-ratio   \n",
       "\n",
       "Rate parameters: \n",
       "  0.1      Rate parameter period 1                    0.2238  ( 0.0053   )             \n",
       "  0.2      Rate parameter period 2                    0.1613  ( 0.0089   )             \n",
       "\n",
       "Other parameters: \n",
       "  1.  rate effect ln(degree+1) on rate co_authorship  1.6230  ( 0.0585   )    0.1875   \n",
       "  2.  eval degree (density)                          -3.2106  ( 0.0108   )   -0.0206   \n",
       "  3.  eval transitive triads                          0.4251  ( 0.0129   )    0.0018   \n",
       "  4.  eval trans. triads intermed. exp_covar         -0.0018  ( 0.0008   )    0.0076   \n",
       "\n",
       "Overall maximum convergence ratio:    0.5538 \n",
       "\n",
       "\n",
       "Total of 1472 iteration steps.\n",
       "\n",
       "Covariance matrix of estimates (correlations below diagonal)\n",
       "\n",
       "       0.003        0.000        0.000        0.000\n",
       "      -0.363        0.000        0.000        0.000\n",
       "       0.654       -0.594        0.000        0.000\n",
       "      -0.617        0.254       -0.729        0.000\n",
       "\n",
       "Derivative matrix of expected statistics X by parameters:\n",
       "\n",
       "     3362.654         2.213      6313.598   1343932.034\n",
       "    -9383.084     12904.940    -14765.972   -401942.593\n",
       "    29595.609     32605.573    562361.077  14848728.521\n",
       "   333687.939    308801.318   5902372.499 288484165.619\n",
       "\n",
       "Covariance matrix of X (correlations below diagonal):\n",
       "\n",
       "2.015695e+05 7.513100e+04 2.197600e+06 6.321091e+07\n",
       "7.180000e-01 5.434307e+04 1.080860e+06 3.034291e+07\n",
       "9.260000e-01 8.780000e-01 2.791624e+07 7.947345e+08\n",
       "8.290000e-01 7.670000e-01 8.860000e-01 2.882487e+10"
      ]
     },
     "metadata": {},
     "output_type": "display_data"
    }
   ],
   "source": [
    "summary(ans)"
   ]
  },
  {
   "cell_type": "markdown",
   "id": "33327412-4c44-45c9-8d6e-1f9ede251713",
   "metadata": {},
   "source": [
    "## Вывод результатов в файл"
   ]
  },
  {
   "cell_type": "code",
   "execution_count": 13,
   "id": "7af49cad-120f-43d5-a81b-90b563300d75",
   "metadata": {},
   "outputs": [
    {
     "name": "stdout",
     "output_type": "stream",
     "text": [
      "Results for ans written to ../output/ModelOutput.html .\n"
     ]
    }
   ],
   "source": [
    "# siena.table(ans, type=\"html\", file='../output/ModelOutput.html', tstat=TRUE, sig=TRUE)\n",
    "siena.table(ans, type=\"html\", file='../output/ModelOutput.html')"
   ]
  },
  {
   "cell_type": "markdown",
   "id": "9600dd08-6a04-4fd9-8385-e8ca380d752b",
   "metadata": {},
   "source": [
    "## Шпоры для меня \n",
    "- $Overall \\; maximum\\; convergence\\; ratio < 0.25$ Почти сходится при $0.35$\n",
    "- $|t-ratio| < 0.1$ Почти сходится при $0.15$\n",
    "- `siena07( myalgorithm, data = mydata, effects = myeff, clusterType=\"FORK\", useCluster=TRUE, nbrNodes=12, prevAns=ans)` для указания предыдущих оценок параметров. "
   ]
  },
  {
   "cell_type": "code",
   "execution_count": 15,
   "id": "555ce01d-a98a-41b0-b308-bb4c8f4341f5",
   "metadata": {},
   "outputs": [],
   "source": [
    "ans <- siena07( myalgorithm, data = mydata, effects = myeff, clusterType=\"FORK\", useCluster=TRUE, nbrNodes=12, prevAns=ans)"
   ]
  },
  {
   "cell_type": "code",
   "execution_count": 16,
   "id": "3c43c68d-13c6-40b5-b402-05a854cad498",
   "metadata": {},
   "outputs": [
    {
     "data": {
      "text/plain": [
       "Estimates, standard errors and convergence t-ratios\n",
       "\n",
       "                                                     Estimate   Standard   Convergence \n",
       "                                                                  Error      t-ratio   \n",
       "\n",
       "Rate parameters: \n",
       "  0.1      Rate parameter period 1                    0.2317  ( 0.0053   )             \n",
       "  0.2      Rate parameter period 2                    0.1678  ( 0.0091   )             \n",
       "\n",
       "Other parameters: \n",
       "  1.  rate effect ln(degree+1) on rate co_authorship  1.6070  ( 0.0224   )    0.0157   \n",
       "  2.  eval degree (density)                          -3.2147  ( 0.0123   )   -0.0174   \n",
       "  3.  eval transitive triads                          0.4268  ( 0.0140   )   -0.0005   \n",
       "  4.  eval trans. triads intermed. exp_covar         -0.0018  ( 0.0006   )    0.0112   \n",
       "\n",
       "Overall maximum convergence ratio:    0.0508 \n",
       "\n",
       "\n",
       "Total of 1592 iteration steps.\n"
      ]
     },
     "metadata": {},
     "output_type": "display_data"
    }
   ],
   "source": [
    "ans"
   ]
  },
  {
   "cell_type": "code",
   "execution_count": 17,
   "id": "f01fbb08-d366-482d-90f4-980105c85f0d",
   "metadata": {},
   "outputs": [
    {
     "name": "stdout",
     "output_type": "stream",
     "text": [
      "Results for ans written to ../output/ModelOutput.html .\n"
     ]
    }
   ],
   "source": [
    "siena.table(ans, type=\"html\", file='../output/ModelOutput.html')"
   ]
  },
  {
   "cell_type": "code",
   "execution_count": null,
   "id": "18238efb-0f52-4423-8d8e-db57c537ecae",
   "metadata": {},
   "outputs": [],
   "source": []
  }
 ],
 "metadata": {
  "kernelspec": {
   "display_name": "R",
   "language": "R",
   "name": "ir"
  },
  "language_info": {
   "codemirror_mode": "r",
   "file_extension": ".r",
   "mimetype": "text/x-r-source",
   "name": "R",
   "pygments_lexer": "r",
   "version": "4.3.1"
  }
 },
 "nbformat": 4,
 "nbformat_minor": 5
}
